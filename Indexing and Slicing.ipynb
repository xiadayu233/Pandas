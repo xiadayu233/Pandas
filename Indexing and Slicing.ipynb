{
 "cells": [
  {
   "cell_type": "markdown",
   "metadata": {},
   "source": [
    "## pandas view vs copy"
   ]
  },
  {
   "cell_type": "markdown",
   "metadata": {},
   "source": [
    "- All operations generate a copy\n",
    "\n",
    "- If inplace=True is provided, it will modify in-place; only some operations support this\n",
    "\n",
    "- An indexer that sets, e.g. .loc/.iloc/.iat/.at will set inplace.\n",
    "\n",
    "- An indexer that gets on a single-dtyped object is almost always a view (depending on the memory layout it may not be that's why this is not reliable). This is mainly for efficiency. (the example from above is for .query; this will always return a copy as its evaluated by numexpr)\n",
    "\n",
    "- An indexer that gets on a multiple-dtyped object is always a copy."
   ]
  },
  {
   "cell_type": "code",
   "execution_count": 1,
   "metadata": {},
   "outputs": [],
   "source": [
    "import pandas as pd\n",
    "import numpy as np"
   ]
  },
  {
   "cell_type": "code",
   "execution_count": 5,
   "metadata": {},
   "outputs": [
    {
     "data": {
      "text/html": [
       "<div>\n",
       "<style scoped>\n",
       "    .dataframe tbody tr th:only-of-type {\n",
       "        vertical-align: middle;\n",
       "    }\n",
       "\n",
       "    .dataframe tbody tr th {\n",
       "        vertical-align: top;\n",
       "    }\n",
       "\n",
       "    .dataframe thead th {\n",
       "        text-align: right;\n",
       "    }\n",
       "</style>\n",
       "<table border=\"1\" class=\"dataframe\">\n",
       "  <thead>\n",
       "    <tr style=\"text-align: right;\">\n",
       "      <th></th>\n",
       "      <th>a</th>\n",
       "      <th>b</th>\n",
       "      <th>c</th>\n",
       "    </tr>\n",
       "    <tr>\n",
       "      <th>season</th>\n",
       "      <th></th>\n",
       "      <th></th>\n",
       "      <th></th>\n",
       "    </tr>\n",
       "  </thead>\n",
       "  <tbody>\n",
       "    <tr>\n",
       "      <td>spring</td>\n",
       "      <td>1</td>\n",
       "      <td>2</td>\n",
       "      <td>3</td>\n",
       "    </tr>\n",
       "    <tr>\n",
       "      <td>summer</td>\n",
       "      <td>92</td>\n",
       "      <td>32</td>\n",
       "      <td>43</td>\n",
       "    </tr>\n",
       "    <tr>\n",
       "      <td>autumn</td>\n",
       "      <td>1444</td>\n",
       "      <td>32</td>\n",
       "      <td>39</td>\n",
       "    </tr>\n",
       "    <tr>\n",
       "      <td>winter</td>\n",
       "      <td>10</td>\n",
       "      <td>20</td>\n",
       "      <td>30</td>\n",
       "    </tr>\n",
       "  </tbody>\n",
       "</table>\n",
       "</div>"
      ],
      "text/plain": [
       "           a   b   c\n",
       "season              \n",
       "spring     1   2   3\n",
       "summer    92  32  43\n",
       "autumn  1444  32  39\n",
       "winter    10  20  30"
      ]
     },
     "execution_count": 5,
     "metadata": {},
     "output_type": "execute_result"
    }
   ],
   "source": [
    "data = [{'season': 'spring','a': 1, 'b': 2, 'c':3}, \n",
    "        {'season': 'summer','a': 92, 'b': 32, 'c':43},\n",
    "        {'season': 'autumn','a': 1444, 'b': 32, 'c':39},\n",
    "        {'season': 'winter','a':10, 'b': 20, 'c': 30}]\n",
    "df = pd.DataFrame(data)\n",
    "df = df.set_index('season')\n",
    "df"
   ]
  },
  {
   "cell_type": "markdown",
   "metadata": {},
   "source": [
    "## []"
   ]
  },
  {
   "cell_type": "code",
   "execution_count": 6,
   "metadata": {},
   "outputs": [
    {
     "data": {
      "text/html": [
       "<div>\n",
       "<style scoped>\n",
       "    .dataframe tbody tr th:only-of-type {\n",
       "        vertical-align: middle;\n",
       "    }\n",
       "\n",
       "    .dataframe tbody tr th {\n",
       "        vertical-align: top;\n",
       "    }\n",
       "\n",
       "    .dataframe thead th {\n",
       "        text-align: right;\n",
       "    }\n",
       "</style>\n",
       "<table border=\"1\" class=\"dataframe\">\n",
       "  <thead>\n",
       "    <tr style=\"text-align: right;\">\n",
       "      <th></th>\n",
       "      <th>a</th>\n",
       "      <th>b</th>\n",
       "    </tr>\n",
       "    <tr>\n",
       "      <th>season</th>\n",
       "      <th></th>\n",
       "      <th></th>\n",
       "    </tr>\n",
       "  </thead>\n",
       "  <tbody>\n",
       "    <tr>\n",
       "      <td>spring</td>\n",
       "      <td>1</td>\n",
       "      <td>2</td>\n",
       "    </tr>\n",
       "    <tr>\n",
       "      <td>summer</td>\n",
       "      <td>92</td>\n",
       "      <td>32</td>\n",
       "    </tr>\n",
       "    <tr>\n",
       "      <td>autumn</td>\n",
       "      <td>1444</td>\n",
       "      <td>32</td>\n",
       "    </tr>\n",
       "    <tr>\n",
       "      <td>winter</td>\n",
       "      <td>10</td>\n",
       "      <td>20</td>\n",
       "    </tr>\n",
       "  </tbody>\n",
       "</table>\n",
       "</div>"
      ],
      "text/plain": [
       "           a   b\n",
       "season          \n",
       "spring     1   2\n",
       "summer    92  32\n",
       "autumn  1444  32\n",
       "winter    10  20"
      ]
     },
     "execution_count": 6,
     "metadata": {},
     "output_type": "execute_result"
    }
   ],
   "source": [
    "# indexing single colume using df['col']\n",
    "# indexing multiple colume using df[['col1','col2']]\n",
    "df[['a','b']]"
   ]
  },
  {
   "cell_type": "markdown",
   "metadata": {},
   "source": [
    "## .loc[] for label based indexing"
   ]
  },
  {
   "cell_type": "code",
   "execution_count": 7,
   "metadata": {},
   "outputs": [
    {
     "data": {
      "text/plain": [
       "a    1\n",
       "b    2\n",
       "c    3\n",
       "Name: spring, dtype: int64"
      ]
     },
     "execution_count": 7,
     "metadata": {},
     "output_type": "execute_result"
    }
   ],
   "source": [
    "# indexing using .loc\n",
    "df.loc['spring']"
   ]
  },
  {
   "cell_type": "markdown",
   "metadata": {},
   "source": [
    "## .iloc[]     for positional indexing"
   ]
  },
  {
   "cell_type": "code",
   "execution_count": 9,
   "metadata": {},
   "outputs": [
    {
     "data": {
      "text/plain": [
       "a    92\n",
       "b    32\n",
       "c    43\n",
       "Name: summer, dtype: int64"
      ]
     },
     "execution_count": 9,
     "metadata": {},
     "output_type": "execute_result"
    }
   ],
   "source": [
    "# select 1st row\n",
    "df.iloc[1]"
   ]
  },
  {
   "cell_type": "code",
   "execution_count": 10,
   "metadata": {},
   "outputs": [
    {
     "data": {
      "text/plain": [
       "season\n",
       "spring     2\n",
       "summer    32\n",
       "autumn    32\n",
       "winter    20\n",
       "Name: b, dtype: int64"
      ]
     },
     "execution_count": 10,
     "metadata": {},
     "output_type": "execute_result"
    }
   ],
   "source": [
    "#select first column\n",
    "df.iloc[:,1]"
   ]
  },
  {
   "cell_type": "markdown",
   "metadata": {},
   "source": [
    "## Selection by callable"
   ]
  },
  {
   "cell_type": "code",
   "execution_count": 15,
   "metadata": {},
   "outputs": [
    {
     "data": {
      "text/html": [
       "<div>\n",
       "<style scoped>\n",
       "    .dataframe tbody tr th:only-of-type {\n",
       "        vertical-align: middle;\n",
       "    }\n",
       "\n",
       "    .dataframe tbody tr th {\n",
       "        vertical-align: top;\n",
       "    }\n",
       "\n",
       "    .dataframe thead th {\n",
       "        text-align: right;\n",
       "    }\n",
       "</style>\n",
       "<table border=\"1\" class=\"dataframe\">\n",
       "  <thead>\n",
       "    <tr style=\"text-align: right;\">\n",
       "      <th></th>\n",
       "      <th>A</th>\n",
       "      <th>B</th>\n",
       "      <th>C</th>\n",
       "      <th>D</th>\n",
       "    </tr>\n",
       "  </thead>\n",
       "  <tbody>\n",
       "    <tr>\n",
       "      <td>a</td>\n",
       "      <td>0.538369</td>\n",
       "      <td>0.321460</td>\n",
       "      <td>0.169858</td>\n",
       "      <td>-0.903983</td>\n",
       "    </tr>\n",
       "    <tr>\n",
       "      <td>b</td>\n",
       "      <td>-2.525694</td>\n",
       "      <td>0.170403</td>\n",
       "      <td>-0.061161</td>\n",
       "      <td>-0.329243</td>\n",
       "    </tr>\n",
       "    <tr>\n",
       "      <td>c</td>\n",
       "      <td>-0.363418</td>\n",
       "      <td>1.310597</td>\n",
       "      <td>-0.084465</td>\n",
       "      <td>-1.257777</td>\n",
       "    </tr>\n",
       "    <tr>\n",
       "      <td>d</td>\n",
       "      <td>1.059371</td>\n",
       "      <td>2.061509</td>\n",
       "      <td>1.066778</td>\n",
       "      <td>1.012883</td>\n",
       "    </tr>\n",
       "    <tr>\n",
       "      <td>e</td>\n",
       "      <td>0.611163</td>\n",
       "      <td>-0.770759</td>\n",
       "      <td>-0.206068</td>\n",
       "      <td>0.238075</td>\n",
       "    </tr>\n",
       "    <tr>\n",
       "      <td>f</td>\n",
       "      <td>-1.137754</td>\n",
       "      <td>0.288189</td>\n",
       "      <td>-1.259288</td>\n",
       "      <td>-1.531174</td>\n",
       "    </tr>\n",
       "  </tbody>\n",
       "</table>\n",
       "</div>"
      ],
      "text/plain": [
       "          A         B         C         D\n",
       "a  0.538369  0.321460  0.169858 -0.903983\n",
       "b -2.525694  0.170403 -0.061161 -0.329243\n",
       "c -0.363418  1.310597 -0.084465 -1.257777\n",
       "d  1.059371  2.061509  1.066778  1.012883\n",
       "e  0.611163 -0.770759 -0.206068  0.238075\n",
       "f -1.137754  0.288189 -1.259288 -1.531174"
      ]
     },
     "execution_count": 15,
     "metadata": {},
     "output_type": "execute_result"
    }
   ],
   "source": [
    "df1 = pd.DataFrame(np.random.randn(6, 4),index=list('abcdef'),columns=list('ABCD'))\n",
    "df1"
   ]
  },
  {
   "cell_type": "code",
   "execution_count": 17,
   "metadata": {},
   "outputs": [
    {
     "data": {
      "text/html": [
       "<div>\n",
       "<style scoped>\n",
       "    .dataframe tbody tr th:only-of-type {\n",
       "        vertical-align: middle;\n",
       "    }\n",
       "\n",
       "    .dataframe tbody tr th {\n",
       "        vertical-align: top;\n",
       "    }\n",
       "\n",
       "    .dataframe thead th {\n",
       "        text-align: right;\n",
       "    }\n",
       "</style>\n",
       "<table border=\"1\" class=\"dataframe\">\n",
       "  <thead>\n",
       "    <tr style=\"text-align: right;\">\n",
       "      <th></th>\n",
       "      <th>A</th>\n",
       "      <th>B</th>\n",
       "      <th>C</th>\n",
       "      <th>D</th>\n",
       "    </tr>\n",
       "  </thead>\n",
       "  <tbody>\n",
       "    <tr>\n",
       "      <td>a</td>\n",
       "      <td>0.538369</td>\n",
       "      <td>0.321460</td>\n",
       "      <td>0.169858</td>\n",
       "      <td>-0.903983</td>\n",
       "    </tr>\n",
       "    <tr>\n",
       "      <td>d</td>\n",
       "      <td>1.059371</td>\n",
       "      <td>2.061509</td>\n",
       "      <td>1.066778</td>\n",
       "      <td>1.012883</td>\n",
       "    </tr>\n",
       "    <tr>\n",
       "      <td>e</td>\n",
       "      <td>0.611163</td>\n",
       "      <td>-0.770759</td>\n",
       "      <td>-0.206068</td>\n",
       "      <td>0.238075</td>\n",
       "    </tr>\n",
       "  </tbody>\n",
       "</table>\n",
       "</div>"
      ],
      "text/plain": [
       "          A         B         C         D\n",
       "a  0.538369  0.321460  0.169858 -0.903983\n",
       "d  1.059371  2.061509  1.066778  1.012883\n",
       "e  0.611163 -0.770759 -0.206068  0.238075"
      ]
     },
     "execution_count": 17,
     "metadata": {},
     "output_type": "execute_result"
    }
   ],
   "source": [
    "df1.loc[lambda df: df['A']>=0,:]\n",
    "# or boolean indexing df1[df1['A']>=0]"
   ]
  },
  {
   "cell_type": "code",
   "execution_count": 18,
   "metadata": {},
   "outputs": [
    {
     "data": {
      "text/plain": [
       "a    0.538369\n",
       "d    1.059371\n",
       "e    0.611163\n",
       "Name: A, dtype: float64"
      ]
     },
     "execution_count": 18,
     "metadata": {},
     "output_type": "execute_result"
    }
   ],
   "source": [
    "#callable indexing in Series\n",
    "df1['A'].loc[lambda s: s > 0]"
   ]
  },
  {
   "cell_type": "markdown",
   "metadata": {},
   "source": [
    "## Random Sampling"
   ]
  },
  {
   "cell_type": "code",
   "execution_count": 19,
   "metadata": {},
   "outputs": [
    {
     "data": {
      "text/html": [
       "<div>\n",
       "<style scoped>\n",
       "    .dataframe tbody tr th:only-of-type {\n",
       "        vertical-align: middle;\n",
       "    }\n",
       "\n",
       "    .dataframe tbody tr th {\n",
       "        vertical-align: top;\n",
       "    }\n",
       "\n",
       "    .dataframe thead th {\n",
       "        text-align: right;\n",
       "    }\n",
       "</style>\n",
       "<table border=\"1\" class=\"dataframe\">\n",
       "  <thead>\n",
       "    <tr style=\"text-align: right;\">\n",
       "      <th></th>\n",
       "      <th>col1</th>\n",
       "      <th>weight_column</th>\n",
       "    </tr>\n",
       "  </thead>\n",
       "  <tbody>\n",
       "    <tr>\n",
       "      <td>0</td>\n",
       "      <td>9</td>\n",
       "      <td>0.5</td>\n",
       "    </tr>\n",
       "    <tr>\n",
       "      <td>1</td>\n",
       "      <td>8</td>\n",
       "      <td>0.4</td>\n",
       "    </tr>\n",
       "    <tr>\n",
       "      <td>2</td>\n",
       "      <td>7</td>\n",
       "      <td>0.1</td>\n",
       "    </tr>\n",
       "    <tr>\n",
       "      <td>3</td>\n",
       "      <td>6</td>\n",
       "      <td>0.0</td>\n",
       "    </tr>\n",
       "  </tbody>\n",
       "</table>\n",
       "</div>"
      ],
      "text/plain": [
       "   col1  weight_column\n",
       "0     9            0.5\n",
       "1     8            0.4\n",
       "2     7            0.1\n",
       "3     6            0.0"
      ]
     },
     "execution_count": 19,
     "metadata": {},
     "output_type": "execute_result"
    }
   ],
   "source": [
    "df2 = pd.DataFrame({'col1': [9, 8, 7, 6],'weight_column': [0.5, 0.4, 0.1, 0]})\n",
    "df2"
   ]
  },
  {
   "cell_type": "code",
   "execution_count": 24,
   "metadata": {},
   "outputs": [
    {
     "data": {
      "text/html": [
       "<div>\n",
       "<style scoped>\n",
       "    .dataframe tbody tr th:only-of-type {\n",
       "        vertical-align: middle;\n",
       "    }\n",
       "\n",
       "    .dataframe tbody tr th {\n",
       "        vertical-align: top;\n",
       "    }\n",
       "\n",
       "    .dataframe thead th {\n",
       "        text-align: right;\n",
       "    }\n",
       "</style>\n",
       "<table border=\"1\" class=\"dataframe\">\n",
       "  <thead>\n",
       "    <tr style=\"text-align: right;\">\n",
       "      <th></th>\n",
       "      <th>col1</th>\n",
       "      <th>weight_column</th>\n",
       "    </tr>\n",
       "  </thead>\n",
       "  <tbody>\n",
       "    <tr>\n",
       "      <td>0</td>\n",
       "      <td>9</td>\n",
       "      <td>0.5</td>\n",
       "    </tr>\n",
       "    <tr>\n",
       "      <td>1</td>\n",
       "      <td>8</td>\n",
       "      <td>0.4</td>\n",
       "    </tr>\n",
       "    <tr>\n",
       "      <td>2</td>\n",
       "      <td>7</td>\n",
       "      <td>0.1</td>\n",
       "    </tr>\n",
       "  </tbody>\n",
       "</table>\n",
       "</div>"
      ],
      "text/plain": [
       "   col1  weight_column\n",
       "0     9            0.5\n",
       "1     8            0.4\n",
       "2     7            0.1"
      ]
     },
     "execution_count": 24,
     "metadata": {},
     "output_type": "execute_result"
    }
   ],
   "source": [
    "df2.sample(n=3, weights = 'weight_column',random_state = 2834)"
   ]
  },
  {
   "cell_type": "markdown",
   "metadata": {},
   "source": [
    "## Selection by where"
   ]
  },
  {
   "cell_type": "code",
   "execution_count": 25,
   "metadata": {},
   "outputs": [
    {
     "data": {
      "text/html": [
       "<div>\n",
       "<style scoped>\n",
       "    .dataframe tbody tr th:only-of-type {\n",
       "        vertical-align: middle;\n",
       "    }\n",
       "\n",
       "    .dataframe tbody tr th {\n",
       "        vertical-align: top;\n",
       "    }\n",
       "\n",
       "    .dataframe thead th {\n",
       "        text-align: right;\n",
       "    }\n",
       "</style>\n",
       "<table border=\"1\" class=\"dataframe\">\n",
       "  <thead>\n",
       "    <tr style=\"text-align: right;\">\n",
       "      <th></th>\n",
       "      <th>A</th>\n",
       "      <th>B</th>\n",
       "      <th>C</th>\n",
       "      <th>D</th>\n",
       "    </tr>\n",
       "  </thead>\n",
       "  <tbody>\n",
       "    <tr>\n",
       "      <td>2000-01-01</td>\n",
       "      <td>-0.467772</td>\n",
       "      <td>1.118495</td>\n",
       "      <td>-0.629553</td>\n",
       "      <td>0.745838</td>\n",
       "    </tr>\n",
       "    <tr>\n",
       "      <td>2000-01-02</td>\n",
       "      <td>-2.049764</td>\n",
       "      <td>-0.932466</td>\n",
       "      <td>-0.970354</td>\n",
       "      <td>-0.575599</td>\n",
       "    </tr>\n",
       "    <tr>\n",
       "      <td>2000-01-03</td>\n",
       "      <td>-0.267137</td>\n",
       "      <td>-1.034488</td>\n",
       "      <td>1.591659</td>\n",
       "      <td>-1.455532</td>\n",
       "    </tr>\n",
       "    <tr>\n",
       "      <td>2000-01-04</td>\n",
       "      <td>0.214531</td>\n",
       "      <td>-0.576425</td>\n",
       "      <td>-1.009700</td>\n",
       "      <td>0.863304</td>\n",
       "    </tr>\n",
       "    <tr>\n",
       "      <td>2000-01-05</td>\n",
       "      <td>0.110996</td>\n",
       "      <td>0.575267</td>\n",
       "      <td>1.173660</td>\n",
       "      <td>-1.054563</td>\n",
       "    </tr>\n",
       "    <tr>\n",
       "      <td>2000-01-06</td>\n",
       "      <td>1.756358</td>\n",
       "      <td>0.253118</td>\n",
       "      <td>0.274261</td>\n",
       "      <td>-0.841215</td>\n",
       "    </tr>\n",
       "    <tr>\n",
       "      <td>2000-01-07</td>\n",
       "      <td>-1.172191</td>\n",
       "      <td>0.014331</td>\n",
       "      <td>-0.228705</td>\n",
       "      <td>0.935969</td>\n",
       "    </tr>\n",
       "    <tr>\n",
       "      <td>2000-01-08</td>\n",
       "      <td>-0.318348</td>\n",
       "      <td>-0.141426</td>\n",
       "      <td>-0.579258</td>\n",
       "      <td>0.516643</td>\n",
       "    </tr>\n",
       "  </tbody>\n",
       "</table>\n",
       "</div>"
      ],
      "text/plain": [
       "                   A         B         C         D\n",
       "2000-01-01 -0.467772  1.118495 -0.629553  0.745838\n",
       "2000-01-02 -2.049764 -0.932466 -0.970354 -0.575599\n",
       "2000-01-03 -0.267137 -1.034488  1.591659 -1.455532\n",
       "2000-01-04  0.214531 -0.576425 -1.009700  0.863304\n",
       "2000-01-05  0.110996  0.575267  1.173660 -1.054563\n",
       "2000-01-06  1.756358  0.253118  0.274261 -0.841215\n",
       "2000-01-07 -1.172191  0.014331 -0.228705  0.935969\n",
       "2000-01-08 -0.318348 -0.141426 -0.579258  0.516643"
      ]
     },
     "execution_count": 25,
     "metadata": {},
     "output_type": "execute_result"
    }
   ],
   "source": [
    "#where takes an optional other argument for replacement of values where the condition is False, in the returned copy.\n",
    "dates = pd.date_range('1/1/2000', periods=8)\n",
    "df1 = pd.DataFrame(np.random.randn(8, 4),index=dates, columns=['A', 'B', 'C', 'D'])\n",
    "df1"
   ]
  },
  {
   "cell_type": "code",
   "execution_count": 26,
   "metadata": {},
   "outputs": [
    {
     "data": {
      "text/html": [
       "<div>\n",
       "<style scoped>\n",
       "    .dataframe tbody tr th:only-of-type {\n",
       "        vertical-align: middle;\n",
       "    }\n",
       "\n",
       "    .dataframe tbody tr th {\n",
       "        vertical-align: top;\n",
       "    }\n",
       "\n",
       "    .dataframe thead th {\n",
       "        text-align: right;\n",
       "    }\n",
       "</style>\n",
       "<table border=\"1\" class=\"dataframe\">\n",
       "  <thead>\n",
       "    <tr style=\"text-align: right;\">\n",
       "      <th></th>\n",
       "      <th>A</th>\n",
       "      <th>B</th>\n",
       "      <th>C</th>\n",
       "      <th>D</th>\n",
       "    </tr>\n",
       "  </thead>\n",
       "  <tbody>\n",
       "    <tr>\n",
       "      <td>2000-01-01</td>\n",
       "      <td>-0.467772</td>\n",
       "      <td>-1.118495</td>\n",
       "      <td>-0.629553</td>\n",
       "      <td>-0.745838</td>\n",
       "    </tr>\n",
       "    <tr>\n",
       "      <td>2000-01-02</td>\n",
       "      <td>-2.049764</td>\n",
       "      <td>-0.932466</td>\n",
       "      <td>-0.970354</td>\n",
       "      <td>-0.575599</td>\n",
       "    </tr>\n",
       "    <tr>\n",
       "      <td>2000-01-03</td>\n",
       "      <td>-0.267137</td>\n",
       "      <td>-1.034488</td>\n",
       "      <td>-1.591659</td>\n",
       "      <td>-1.455532</td>\n",
       "    </tr>\n",
       "    <tr>\n",
       "      <td>2000-01-04</td>\n",
       "      <td>-0.214531</td>\n",
       "      <td>-0.576425</td>\n",
       "      <td>-1.009700</td>\n",
       "      <td>-0.863304</td>\n",
       "    </tr>\n",
       "    <tr>\n",
       "      <td>2000-01-05</td>\n",
       "      <td>-0.110996</td>\n",
       "      <td>-0.575267</td>\n",
       "      <td>-1.173660</td>\n",
       "      <td>-1.054563</td>\n",
       "    </tr>\n",
       "    <tr>\n",
       "      <td>2000-01-06</td>\n",
       "      <td>-1.756358</td>\n",
       "      <td>-0.253118</td>\n",
       "      <td>-0.274261</td>\n",
       "      <td>-0.841215</td>\n",
       "    </tr>\n",
       "    <tr>\n",
       "      <td>2000-01-07</td>\n",
       "      <td>-1.172191</td>\n",
       "      <td>-0.014331</td>\n",
       "      <td>-0.228705</td>\n",
       "      <td>-0.935969</td>\n",
       "    </tr>\n",
       "    <tr>\n",
       "      <td>2000-01-08</td>\n",
       "      <td>-0.318348</td>\n",
       "      <td>-0.141426</td>\n",
       "      <td>-0.579258</td>\n",
       "      <td>-0.516643</td>\n",
       "    </tr>\n",
       "  </tbody>\n",
       "</table>\n",
       "</div>"
      ],
      "text/plain": [
       "                   A         B         C         D\n",
       "2000-01-01 -0.467772 -1.118495 -0.629553 -0.745838\n",
       "2000-01-02 -2.049764 -0.932466 -0.970354 -0.575599\n",
       "2000-01-03 -0.267137 -1.034488 -1.591659 -1.455532\n",
       "2000-01-04 -0.214531 -0.576425 -1.009700 -0.863304\n",
       "2000-01-05 -0.110996 -0.575267 -1.173660 -1.054563\n",
       "2000-01-06 -1.756358 -0.253118 -0.274261 -0.841215\n",
       "2000-01-07 -1.172191 -0.014331 -0.228705 -0.935969\n",
       "2000-01-08 -0.318348 -0.141426 -0.579258 -0.516643"
      ]
     },
     "execution_count": 26,
     "metadata": {},
     "output_type": "execute_result"
    }
   ],
   "source": [
    "df1.where(df1<0,-df1) # this is a copy"
   ]
  },
  {
   "cell_type": "code",
   "execution_count": null,
   "metadata": {},
   "outputs": [],
   "source": []
  }
 ],
 "metadata": {
  "kernelspec": {
   "display_name": "Python 3",
   "language": "python",
   "name": "python3"
  },
  "language_info": {
   "codemirror_mode": {
    "name": "ipython",
    "version": 3
   },
   "file_extension": ".py",
   "mimetype": "text/x-python",
   "name": "python",
   "nbconvert_exporter": "python",
   "pygments_lexer": "ipython3",
   "version": "3.6.5"
  }
 },
 "nbformat": 4,
 "nbformat_minor": 2
}
